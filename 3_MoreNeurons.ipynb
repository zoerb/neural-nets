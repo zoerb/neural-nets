{
 "cells": [
  {
   "cell_type": "code",
   "execution_count": 1,
   "id": "873152b5-281d-4f49-b280-ca4c67a3b18b",
   "metadata": {
    "tags": []
   },
   "outputs": [],
   "source": [
    "import numpy as np\n",
    "import matplotlib.pyplot as plt\n",
    "from matplotlib.colors import CenteredNorm\n",
    "\n",
    "from Common import *"
   ]
  },
  {
   "cell_type": "code",
   "execution_count": 2,
   "id": "71a21e70",
   "metadata": {},
   "outputs": [
    {
     "data": {
      "text/plain": [
       "<matplotlib.collections.PathCollection at 0x10efa7110>"
      ]
     },
     "execution_count": 2,
     "metadata": {},
     "output_type": "execute_result"
    },
    {
     "data": {
      "image/png": "[encoded data removed]",
      "text/plain": [
       "<Figure size 640x480 with 1 Axes>"
      ]
     },
     "metadata": {},
     "output_type": "display_data"
    }
   ],
   "source": [
    "plt.scatter(input[:, 0], input[:, 1], c=expected, cmap=cmap)"
   ]
  },
  {
   "cell_type": "code",
   "execution_count": 3,
   "id": "8d4e085c",
   "metadata": {},
   "outputs": [],
   "source": [
    "W0 = np.array([[0.61275508, 0.98539237, 0.27266151],\n",
    "               [-0.47399039, 0.66266751, -0.72721264]])\n",
    "W1 = np.array([[0.96787958],\n",
    "               [-0.80183257],\n",
    "               [0.94478099]])\n",
    "\n",
    "expected = expected.reshape(9, 1)"
   ]
  },
  {
   "cell_type": "code",
   "execution_count": 4,
   "id": "8298eb4d",
   "metadata": {},
   "outputs": [],
   "source": [
    "def run(i):\n",
    "  x1 = np.matmul(i, W0)\n",
    "  x2 = np.matmul(x1, W1)\n",
    "  return (x2, x1)"
   ]
  },
  {
   "cell_type": "code",
   "execution_count": 5,
   "id": "d397c921",
   "metadata": {},
   "outputs": [
    {
     "data": {
      "text/plain": [
       "15.94190645227356"
      ]
     },
     "execution_count": 5,
     "metadata": {},
     "output_type": "execute_result"
    }
   ],
   "source": [
    "x2, x1 = run(input)\n",
    "loss = abs(expected - x2).sum()\n",
    "loss\n",
    "\n",
    "#np.column_stack([x2, expected])"
   ]
  },
  {
   "cell_type": "code",
   "execution_count": 106,
   "id": "a24d2094",
   "metadata": {},
   "outputs": [
    {
     "data": {
      "text/plain": [
       "<matplotlib.image.AxesImage at 0x11e0d01d0>"
      ]
     },
     "execution_count": 106,
     "metadata": {},
     "output_type": "execute_result"
    },
    {
     "data": {
      "image/png": "[encoded data removed]",
      "text/plain": [
       "<Figure size 640x480 with 1 Axes>"
      ]
     },
     "metadata": {},
     "output_type": "display_data"
    }
   ],
   "source": [
    "#plt.scatter(test[:, 0], test[:, 1], c=run(test)[0].squeeze(), cmap=cmap)\n",
    "#plt.imshow(run(test)[0].reshape(256, 256), cmap=cmap, norm=CenteredNorm(0, 0.1))\n",
    "plt.imshow(run(test)[0].reshape(256, 256), cmap=cmap)"
   ]
  },
  {
   "attachments": {},
   "cell_type": "markdown",
   "id": "deba59ce",
   "metadata": {},
   "source": [
    "Chain rule for backprop:\n",
    "dL/dW1 = dL/dx2 * dx2/dW1 = dL/dx2 * x1\n",
    "dL/dx1 = dL/dx2 * dx2/dx1\n",
    "dL/dW0 = dL/dx1 * dx1/dW0 = dL/dx1 * x"
   ]
  },
  {
   "cell_type": "code",
   "execution_count": 107,
   "id": "dc524bca",
   "metadata": {},
   "outputs": [
    {
     "data": {
      "text/plain": [
       "array([[-1.],\n",
       "       [-1.],\n",
       "       [-1.],\n",
       "       [ 1.],\n",
       "       [-0.],\n",
       "       [-1.],\n",
       "       [ 1.],\n",
       "       [ 1.],\n",
       "       [ 1.]])"
      ]
     },
     "execution_count": 107,
     "metadata": {},
     "output_type": "execute_result"
    }
   ],
   "source": [
    "# For each sample (the rows), in which direction does x2 need to be nudged\n",
    "dLdX2 = -np.sign(expected - x2)\n",
    "dLdX2"
   ]
  },
  {
   "cell_type": "code",
   "execution_count": 110,
   "id": "7b6af8dd",
   "metadata": {},
   "outputs": [
    {
     "data": {
      "text/plain": [
       "array([ 1.61843218, -5.9467898 ,  3.81795282])"
      ]
     },
     "execution_count": 110,
     "metadata": {},
     "output_type": "execute_result"
    }
   ],
   "source": [
    "# For each sample, in which direction do each of the W1 weights need to be nudged\n",
    "dLdW1PerSample = dLdX2 * x1\n",
    "# Sum over samples to get overall update to W1\n",
    "dLdW1 = dLdW1PerSample.sum(0)\n",
    "dLdW1"
   ]
  },
  {
   "cell_type": "code",
   "execution_count": 104,
   "id": "c9f3b602",
   "metadata": {},
   "outputs": [
    {
     "data": {
      "text/plain": [
       "array([[-0.74129907, -0.030718  , -0.4102676 ],\n",
       "       [-0.74129907, -0.030718  , -0.4102676 ],\n",
       "       [-0.74129907, -0.030718  , -0.4102676 ],\n",
       "       [ 0.74129907,  0.030718  ,  0.4102676 ],\n",
       "       [-0.        , -0.        , -0.        ],\n",
       "       [-0.74129907, -0.030718  , -0.4102676 ],\n",
       "       [ 0.74129907,  0.030718  ,  0.4102676 ],\n",
       "       [ 0.74129907,  0.030718  ,  0.4102676 ],\n",
       "       [ 0.74129907,  0.030718  ,  0.4102676 ]])"
      ]
     },
     "execution_count": 104,
     "metadata": {},
     "output_type": "execute_result"
    }
   ],
   "source": [
    "dLdX1 = np.outer(dLdX2, W1)\n",
    "dLdX1"
   ]
  },
  {
   "cell_type": "code",
   "execution_count": 111,
   "id": "4004a36f",
   "metadata": {},
   "outputs": [
    {
     "data": {
      "text/plain": [
       "array([[-1.48259815, -0.061436  , -0.82053519],\n",
       "       [-4.44779445, -0.18430801, -2.46160557]])"
      ]
     },
     "execution_count": 111,
     "metadata": {},
     "output_type": "execute_result"
    }
   ],
   "source": [
    "f = lambda i, j: np.outer(i, j)\n",
    "vecF = np.vectorize(f, signature='(m),(n)->(m,n)')\n",
    "\n",
    "dLdW0PerSample = vecF(input, dLdX1)\n",
    "dLdW0 = dLdW0PerSample.sum(0)\n",
    "dLdW0"
   ]
  },
  {
   "cell_type": "code",
   "execution_count": 105,
   "id": "3deb2352",
   "metadata": {},
   "outputs": [
    {
     "data": {
      "text/plain": [
       "array([[ 0.86913188,  0.86972518,  0.4759188 ],\n",
       "       [ 0.29514   ,  0.31566595, -0.11744078]])"
      ]
     },
     "execution_count": 105,
     "metadata": {},
     "output_type": "execute_result"
    },
    {
     "data": {
      "text/plain": [
       "array([[0.72511475],\n",
       "       [0.0901859 ],\n",
       "       [0.37208807]])"
      ]
     },
     "execution_count": 105,
     "metadata": {},
     "output_type": "execute_result"
    }
   ],
   "source": [
    "e = 1e-2\n",
    "W0 -= e * dLdW0\n",
    "W1 -= e * dLdW1.reshape(3, 1)\n",
    "\n",
    "W0\n",
    "W1"
   ]
  }
 ],
 "metadata": {
  "kernelspec": {
   "display_name": "Python 3 (ipykernel)",
   "language": "python",
   "name": "python3"
  },
  "language_info": {
   "codemirror_mode": {
    "name": "ipython",
    "version": 3
   },
   "file_extension": ".py",
   "mimetype": "text/x-python",
   "name": "python",
   "nbconvert_exporter": "python",
   "pygments_lexer": "ipython3",
   "version": "3.11.2"
  }
 },
 "nbformat": 4,
 "nbformat_minor": 5
}
