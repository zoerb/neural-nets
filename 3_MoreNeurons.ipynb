{
 "cells": [
  {
   "cell_type": "code",
   "execution_count": null,
   "id": "873152b5-281d-4f49-b280-ca4c67a3b18b",
   "metadata": {
    "tags": []
   },
   "outputs": [],
   "source": [
    "import numpy as np\n",
    "from common import *"
   ]
  },
  {
   "cell_type": "code",
   "execution_count": null,
   "id": "8d4e085c",
   "metadata": {},
   "outputs": [],
   "source": [
    "W0 = np.array([[0.61275508, 0.98539237, 0.27266151],\n",
    "               [-0.47399039, 0.66266751, -0.72721264]])\n",
    "W1 = np.array([[0.96787958],\n",
    "               [-0.80183257],\n",
    "               [0.94478099]])\n",
    "\n",
    "expected = expected.reshape(9, 1)"
   ]
  },
  {
   "cell_type": "code",
   "execution_count": null,
   "id": "8298eb4d",
   "metadata": {},
   "outputs": [],
   "source": [
    "def run(i):\n",
    "  x1 = np.matmul(i, W0)\n",
    "  x2 = np.matmul(x1, W1)\n",
    "  return (x2, x1)"
   ]
  },
  {
   "cell_type": "code",
   "execution_count": null,
   "id": "d397c921",
   "metadata": {},
   "outputs": [],
   "source": [
    "x2, x1 = run(input)\n",
    "loss = abs(expected - x2).sum()\n",
    "loss\n",
    "\n",
    "plot(run(test)[0])\n",
    "#np.column_stack([x2, expected])"
   ]
  },
  {
   "attachments": {},
   "cell_type": "markdown",
   "id": "deba59ce",
   "metadata": {},
   "source": [
    "Chain rule for backprop:\n",
    "dL/dW1 = dL/dx2 * dx2/dW1 = dL/dx2 * x1\n",
    "dL/dx1 = dL/dx2 * dx2/dx1\n",
    "dL/dW0 = dL/dx1 * dx1/dW0 = dL/dx1 * x"
   ]
  },
  {
   "cell_type": "code",
   "execution_count": null,
   "id": "dc524bca",
   "metadata": {},
   "outputs": [],
   "source": [
    "# For each sample (the rows), in which direction does x2 need to be nudged\n",
    "dLdX2 = -np.sign(expected - x2)\n",
    "dLdX2"
   ]
  },
  {
   "cell_type": "code",
   "execution_count": null,
   "id": "7b6af8dd",
   "metadata": {},
   "outputs": [],
   "source": [
    "f = lambda i, j: np.outer(i, j)\n",
    "vecF = np.vectorize(f, signature='(m),(n)->(m,n)')\n",
    "\n",
    "# For each sample, in which direction do each of the W1 weights need to be nudged\n",
    "dLdW1PerSample = vecF(x1, dLdX2)\n",
    "# Sum over samples to get overall update to W1\n",
    "dLdW1 = dLdW1PerSample.sum(0)\n",
    "dLdW1"
   ]
  },
  {
   "cell_type": "code",
   "execution_count": null,
   "id": "c9f3b602",
   "metadata": {},
   "outputs": [],
   "source": [
    "dLdX1 = np.matmul(dLdX2, W1.T)\n",
    "dLdX1"
   ]
  },
  {
   "cell_type": "code",
   "execution_count": null,
   "id": "4004a36f",
   "metadata": {},
   "outputs": [],
   "source": [
    "dLdW0PerSample = vecF(input, dLdX1)\n",
    "dLdW0 = dLdW0PerSample.sum(0)\n",
    "dLdW0"
   ]
  },
  {
   "cell_type": "code",
   "execution_count": null,
   "id": "3deb2352",
   "metadata": {},
   "outputs": [],
   "source": [
    "e = 1e-2\n",
    "W0 -= e * dLdW0\n",
    "W1 -= e * dLdW1\n",
    "\n",
    "W0\n",
    "W1"
   ]
  }
 ],
 "metadata": {
  "kernelspec": {
   "display_name": "Python 3 (ipykernel)",
   "language": "python",
   "name": "python3"
  },
  "language_info": {
   "codemirror_mode": {
    "name": "ipython",
    "version": 3
   },
   "file_extension": ".py",
   "mimetype": "text/x-python",
   "name": "python",
   "nbconvert_exporter": "python",
   "pygments_lexer": "ipython3",
   "version": "3.11.2"
  }
 },
 "nbformat": 4,
 "nbformat_minor": 5
}
