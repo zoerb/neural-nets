{
 "cells": [
  {
   "cell_type": "code",
   "execution_count": 1,
   "id": "873152b5-281d-4f49-b280-ca4c67a3b18b",
   "metadata": {
    "tags": []
   },
   "outputs": [],
   "source": [
    "import numpy as np\n",
    "import matplotlib.pyplot as plt\n",
    "from matplotlib.colors import CenteredNorm\n",
    "\n",
    "from Common import *"
   ]
  },
  {
   "cell_type": "code",
   "execution_count": 2,
   "id": "71a21e70",
   "metadata": {},
   "outputs": [
    {
     "data": {
      "text/plain": [
       "<matplotlib.collections.PathCollection at 0x12a833190>"
      ]
     },
     "execution_count": 2,
     "metadata": {},
     "output_type": "execute_result"
    },
    {
     "data": {
      "image/png": "[encoded data removed]",
      "text/plain": [
       "<Figure size 640x480 with 1 Axes>"
      ]
     },
     "metadata": {},
     "output_type": "display_data"
    }
   ],
   "source": [
    "plt.scatter(input[:, 0], input[:, 1], c=expected, cmap=cmap)"
   ]
  },
  {
   "cell_type": "code",
   "execution_count": 16,
   "id": "8d4e085c",
   "metadata": {},
   "outputs": [],
   "source": [
    "W0 = np.array([[0.61275508, 0.98539237, 0.27266151],\n",
    "               [-0.47399039, 0.66266751, -0.72721264]])\n",
    "W1 = np.array([[0.96787958],\n",
    "               [-0.80183257],\n",
    "               [0.94478099]])\n",
    "\n",
    "expected = expected.reshape(9, 1)"
   ]
  },
  {
   "cell_type": "code",
   "execution_count": 17,
   "id": "8298eb4d",
   "metadata": {},
   "outputs": [],
   "source": [
    "def run(i):\n",
    "  x1 = np.matmul(i, W0)\n",
    "  x2 = np.matmul(x1, W1)\n",
    "  return (x2, x1)"
   ]
  },
  {
   "cell_type": "code",
   "execution_count": 57,
   "id": "d397c921",
   "metadata": {},
   "outputs": [
    {
     "data": {
      "text/plain": [
       "10.838089697399669"
      ]
     },
     "execution_count": 57,
     "metadata": {},
     "output_type": "execute_result"
    }
   ],
   "source": [
    "x2, x1 = run(input)\n",
    "loss = abs(expected - x2).sum()\n",
    "loss\n",
    "\n",
    "#np.column_stack([x2, expected])"
   ]
  },
  {
   "cell_type": "code",
   "execution_count": 58,
   "id": "a24d2094",
   "metadata": {},
   "outputs": [
    {
     "data": {
      "text/plain": [
       "<matplotlib.image.AxesImage at 0x12a6d1d90>"
      ]
     },
     "execution_count": 58,
     "metadata": {},
     "output_type": "execute_result"
    },
    {
     "data": {
      "image/png": "[encoded data removed]",
      "text/plain": [
       "<Figure size 640x480 with 1 Axes>"
      ]
     },
     "metadata": {},
     "output_type": "display_data"
    }
   ],
   "source": [
    "#plt.scatter(test[:, 0], test[:, 1], c=run(test)[0].squeeze(), cmap=cmap)\n",
    "#plt.imshow(run(test)[0].reshape(256, 256), cmap=cmap, norm=CenteredNorm(0, 0.1))\n",
    "plt.imshow(run(test)[0].reshape(256, 256), cmap=cmap)"
   ]
  },
  {
   "attachments": {},
   "cell_type": "markdown",
   "id": "deba59ce",
   "metadata": {},
   "source": [
    "Chain rule for backprop:\n",
    "dL/dW1 = dL/dx2 * dx2/dW1 = dL/dx2 * x1\n",
    "dL/dx1 = dL/dx2 * dx2/dx1\n",
    "dL/dW0 = dL/dx1 * dx1/dW0 = dL/dx1 * x"
   ]
  },
  {
   "cell_type": "code",
   "execution_count": 59,
   "id": "dc524bca",
   "metadata": {},
   "outputs": [
    {
     "data": {
      "text/plain": [
       "array([[-1.],\n",
       "       [-1.],\n",
       "       [-1.],\n",
       "       [ 1.],\n",
       "       [-0.],\n",
       "       [-1.],\n",
       "       [ 1.],\n",
       "       [ 1.],\n",
       "       [ 1.]])"
      ]
     },
     "execution_count": 59,
     "metadata": {},
     "output_type": "execute_result"
    }
   ],
   "source": [
    "# For each sample (the rows), in which direction does x2 need to be nudged\n",
    "dLdX2 = -np.sign(expected - x2)\n",
    "dLdX2"
   ]
  },
  {
   "cell_type": "code",
   "execution_count": 60,
   "id": "7b6af8dd",
   "metadata": {},
   "outputs": [
    {
     "data": {
      "text/plain": [
       "array([[ 0.10249869],\n",
       "       [-4.80154406],\n",
       "       [ 2.39194859]])"
      ]
     },
     "execution_count": 60,
     "metadata": {},
     "output_type": "execute_result"
    }
   ],
   "source": [
    "f = lambda i, j: np.outer(i, j)\n",
    "vecF = np.vectorize(f, signature='(m),(n)->(m,n)')\n",
    "\n",
    "# For each sample, in which direction do each of the W1 weights need to be nudged\n",
    "dLdW1PerSample = vecF(x1, dLdX2)\n",
    "# Sum over samples to get overall update to W1\n",
    "dLdW1 = dLdW1PerSample.sum(0)\n",
    "dLdW1"
   ]
  },
  {
   "cell_type": "code",
   "execution_count": 61,
   "id": "c9f3b602",
   "metadata": {},
   "outputs": [
    {
     "data": {
      "text/plain": [
       "array([[-0.92612794,  0.5822663 , -0.81414187],\n",
       "       [-0.92612794,  0.5822663 , -0.81414187],\n",
       "       [-0.92612794,  0.5822663 , -0.81414187],\n",
       "       [ 0.92612794, -0.5822663 ,  0.81414187],\n",
       "       [ 0.        ,  0.        ,  0.        ],\n",
       "       [-0.92612794,  0.5822663 , -0.81414187],\n",
       "       [ 0.92612794, -0.5822663 ,  0.81414187],\n",
       "       [ 0.92612794, -0.5822663 ,  0.81414187],\n",
       "       [ 0.92612794, -0.5822663 ,  0.81414187]])"
      ]
     },
     "execution_count": 61,
     "metadata": {},
     "output_type": "execute_result"
    }
   ],
   "source": [
    "#dLdX1 = np.outer(dLdX2, W1)\n",
    "dLdX1 = dLdX2 @ W1.T\n",
    "dLdX1"
   ]
  },
  {
   "cell_type": "code",
   "execution_count": 62,
   "id": "81f70f80",
   "metadata": {},
   "outputs": [
    {
     "data": {
      "text/plain": [
       "array([[1.04481807, 0.31745438, 0.82544582, 0.87513112, 1.1949496 ],\n",
       "       [1.21446138, 0.50545856, 1.03582293, 1.23813486, 1.44082589],\n",
       "       [1.37003561, 0.98722339, 1.15865512, 2.2125403 , 1.98136985],\n",
       "       [1.27187035, 0.99683809, 1.13878567, 1.77772684, 1.71009815],\n",
       "       [0.98967103, 0.7348351 , 1.01004381, 1.72741333, 1.4592493 ],\n",
       "       [0.81211541, 0.59206397, 0.82268375, 1.97877122, 1.45906952],\n",
       "       [1.2436979 , 0.68396689, 1.48791045, 1.49465389, 1.53364706],\n",
       "       [1.70821284, 1.10827819, 0.86862412, 1.28621857, 1.79240986],\n",
       "       [0.71050344, 0.7741153 , 0.84341619, 2.15663453, 1.45641883]])"
      ]
     },
     "execution_count": 62,
     "metadata": {},
     "output_type": "execute_result"
    }
   ],
   "source": [
    "matrix1 = np.random.rand(9, 5)\n",
    "matrix2 = np.random.rand(5, 5)\n",
    "\n",
    "matrix1 @ matrix2"
   ]
  },
  {
   "cell_type": "code",
   "execution_count": 63,
   "id": "4004a36f",
   "metadata": {},
   "outputs": [
    {
     "data": {
      "text/plain": [
       "array([[-1.85225588,  1.16453261, -1.62828373],\n",
       "       [-5.55676764,  3.49359782, -4.88485119]])"
      ]
     },
     "execution_count": 63,
     "metadata": {},
     "output_type": "execute_result"
    }
   ],
   "source": [
    "dLdW0PerSample = vecF(input, dLdX1)\n",
    "dLdW0 = dLdW0PerSample.sum(0)\n",
    "dLdW0"
   ]
  },
  {
   "cell_type": "code",
   "execution_count": 56,
   "id": "3deb2352",
   "metadata": {},
   "outputs": [
    {
     "data": {
      "text/plain": [
       "array([[ 0.68855175,  0.92813008,  0.34396172],\n",
       "       [-0.24660037,  0.49088065, -0.51331201]])"
      ]
     },
     "execution_count": 56,
     "metadata": {},
     "output_type": "execute_result"
    },
    {
     "data": {
      "text/plain": [
       "array([[ 0.92612794],\n",
       "       [-0.5822663 ],\n",
       "       [ 0.81414187]])"
      ]
     },
     "execution_count": 56,
     "metadata": {},
     "output_type": "execute_result"
    }
   ],
   "source": [
    "e = 1e-2\n",
    "W0 -= e * dLdW0\n",
    "W1 -= e * dLdW1\n",
    "\n",
    "W0\n",
    "W1"
   ]
  }
 ],
 "metadata": {
  "kernelspec": {
   "display_name": "Python 3 (ipykernel)",
   "language": "python",
   "name": "python3"
  },
  "language_info": {
   "codemirror_mode": {
    "name": "ipython",
    "version": 3
   },
   "file_extension": ".py",
   "mimetype": "text/x-python",
   "name": "python",
   "nbconvert_exporter": "python",
   "pygments_lexer": "ipython3",
   "version": "3.11.2"
  }
 },
 "nbformat": 4,
 "nbformat_minor": 5
}
