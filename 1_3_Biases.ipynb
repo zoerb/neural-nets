{
 "cells": [
  {
   "attachments": {},
   "cell_type": "markdown",
   "id": "31e5302e",
   "metadata": {},
   "source": [
    "Add biases to computation."
   ]
  },
  {
   "cell_type": "code",
   "execution_count": null,
   "id": "873152b5-281d-4f49-b280-ca4c67a3b18b",
   "metadata": {
    "tags": []
   },
   "outputs": [],
   "source": [
    "import numpy as np\n",
    "from common import *"
   ]
  },
  {
   "cell_type": "code",
   "execution_count": null,
   "id": "6494ef74",
   "metadata": {},
   "outputs": [],
   "source": [
    "input = input1\n",
    "expected = expected1"
   ]
  },
  {
   "cell_type": "code",
   "execution_count": null,
   "id": "8d4e085c",
   "metadata": {},
   "outputs": [],
   "source": [
    "# Weights\n",
    "w = np.array([[0.69829777],\n",
    "              [0.39610727]])\n",
    "\n",
    "# Bias\n",
    "b = np.array([0.40253261])"
   ]
  },
  {
   "cell_type": "code",
   "execution_count": null,
   "id": "5bef2ff0",
   "metadata": {},
   "outputs": [],
   "source": [
    "# Learning rate\n",
    "lr = 1e-2\n",
    "\n",
    "# Calculate the model's output given input `x`\n",
    "def forward(x):\n",
    "  return np.matmul(x, w) + b\n",
    "\n",
    "# Calculate the error between the actual and expected output\n",
    "def loss(out):\n",
    "  return np.square(out - expected).sum()\n",
    "  \n",
    "# Calculate how changes to the weights affect the loss (error)\n",
    "def backward(x, out):\n",
    "  innerDeriv = 2 * (out - expected)\n",
    "  dLdW = elemOuter(x, innerDeriv).sum(0)\n",
    "  dLdB = innerDeriv.sum(0)\n",
    "  return dLdW, dLdB\n",
    "\n",
    "# Nudge weights in the direction that will cause the loss to decrease\n",
    "def updateWeights(dLdW, dLdB):\n",
    "  global w, b\n",
    "  w -= lr * dLdW\n",
    "  b -= lr * dLdB"
   ]
  },
  {
   "attachments": {},
   "cell_type": "markdown",
   "id": "fed3ad20",
   "metadata": {},
   "source": [
    "Run the following cell multiple times to see the model adjust to match the training data."
   ]
  },
  {
   "cell_type": "code",
   "execution_count": null,
   "id": "d397c921",
   "metadata": {},
   "outputs": [],
   "source": [
    "out = forward(input)\n",
    "\n",
    "# Visualize output and loss\n",
    "print(\"Loss: \", loss(out))\n",
    "plot(input, forward(test), expected)\n",
    "\n",
    "dLdW, dLdB = backward(input, out)\n",
    "updateWeights(dLdW, dLdB)"
   ]
  }
 ],
 "metadata": {
  "kernelspec": {
   "display_name": "Python 3 (ipykernel)",
   "language": "python",
   "name": "python3"
  },
  "language_info": {
   "codemirror_mode": {
    "name": "ipython",
    "version": 3
   },
   "file_extension": ".py",
   "mimetype": "text/x-python",
   "name": "python",
   "nbconvert_exporter": "python",
   "pygments_lexer": "ipython3",
   "version": "3.11.2"
  }
 },
 "nbformat": 4,
 "nbformat_minor": 5
}
