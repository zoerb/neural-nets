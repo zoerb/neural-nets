{
 "cells": [
  {
   "cell_type": "code",
   "execution_count": 1,
   "id": "873152b5-281d-4f49-b280-ca4c67a3b18b",
   "metadata": {
    "tags": []
   },
   "outputs": [],
   "source": [
    "import numpy as np\n",
    "import matplotlib.pyplot as plt\n",
    "\n",
    "from Common import *"
   ]
  },
  {
   "cell_type": "code",
   "execution_count": 2,
   "id": "8d4e085c",
   "metadata": {},
   "outputs": [],
   "source": [
    "layers = [2, 5, 5, 1]\n",
    "\n",
    "# Weights\n",
    "W = [np.random.rand(m, n) * 2 - 1 for m, n in zip(layers, layers[1:])]\n",
    "\n",
    "expected = expected.reshape(9, 1)"
   ]
  },
  {
   "cell_type": "code",
   "execution_count": 22,
   "id": "8298eb4d",
   "metadata": {},
   "outputs": [
    {
     "data": {
      "text/plain": [
       "2.0392900837339063"
      ]
     },
     "execution_count": 22,
     "metadata": {},
     "output_type": "execute_result"
    }
   ],
   "source": [
    "def run(x):\n",
    "  xi = [x]\n",
    "\n",
    "  for i in range(len(layers) - 1):\n",
    "    xi.append(np.matmul(xi[i], W[i]))\n",
    "\n",
    "  return xi\n",
    "  \n",
    "dLdW = []\n",
    "\n",
    "# Do an outer product element by element along each matrix's first axis\n",
    "# E.g. vecF(9x3, 9x2) = 9x3x2\n",
    "f = lambda i, j: np.outer(i, j)\n",
    "vecF = np.vectorize(f, signature='(m),(n)->(m,n)')\n",
    "\n",
    "f = lambda i, j: np.outer(i, j)\n",
    "vecF = np.vectorize(f, signature='(m),(n)->(m,n)')\n",
    "\n",
    "def backprop(xi):\n",
    "  dLdX = [-np.sign(expected - xi[-1])]\n",
    "\n",
    "  for i in range(len(layers) - 1):\n",
    "    dLdXCur = dLdX[i]   # 9 x numN(L)\n",
    "    xiCur = xi[-(i+2)]  # 9 x numN(L-1)\n",
    "    wCur = W[-(i+1)]    # numN(L-1) x numN(L)\n",
    "\n",
    "    # For each sample, in which direction do each of the layer's weights need\n",
    "    # to be nudged\n",
    "    dLdWPerSample = vecF(xi[-(i+2)], dLdX[i])\n",
    "    dLdWSum = dLdWPerSample.sum(0)\n",
    "    # Sum over samples to get overall update to W1\n",
    "    dLdW.append(dLdWPerSample.sum(0))\n",
    "\n",
    "    #mat = np.outer(dLdX[i], W[-(i+1)]) # 9 x numW\n",
    "    mat = dLdX[i] @ W[-(i+1)].T\n",
    "\n",
    "    # 9x1 * 3x1 => 9x3\n",
    "    # 9x5 * 5x5\n",
    "    dLdX.append(mat)\n",
    "  \n",
    "  dLdX.reverse()\n",
    "  dLdW.reverse()\n",
    "\n",
    "def updateWeights():\n",
    "  e = 1e-2\n",
    "  \n",
    "  for i in range(len(dLdW)):\n",
    "    W[i] -= e * dLdW[i]\n",
    "\n",
    "\n",
    "xi = run(input)\n",
    "loss = abs(expected - xi[-1]).sum()\n",
    "loss\n"
   ]
  },
  {
   "cell_type": "code",
   "execution_count": 21,
   "id": "1bfd7939",
   "metadata": {},
   "outputs": [],
   "source": [
    "backprop(xi)\n",
    "updateWeights()"
   ]
  },
  {
   "cell_type": "code",
   "execution_count": null,
   "id": "a24d2094",
   "metadata": {},
   "outputs": [],
   "source": [
    "#plt.scatter(test[:, 0], test[:, 1], c=run(test)[0].squeeze(), cmap=cmap)\n",
    "#plt.imshow(run(test)[0].reshape(256, 256), cmap=cmap, norm=CenteredNorm(0, 0.1))\n",
    "plt.imshow(run(test)[-1].reshape(256, 256), cmap=cmap)"
   ]
  },
  {
   "cell_type": "code",
   "execution_count": null,
   "id": "dc524bca",
   "metadata": {},
   "outputs": [],
   "source": [
    "# For each sample (the rows), in which direction does x2 need to be nudged\n",
    "dLdX2 = -np.sign(expected - x2)\n",
    "dLdX2\n",
    "# For each sample, in which direction do each of the W1 weights need to be nudged\n",
    "dLdW1PerSample = dLdX2 * x1\n",
    "# Sum over samples to get overall update to W1\n",
    "dLdW1 = dLdW1PerSample.sum(axis=0)\n",
    "dLdW1\n",
    "\n",
    "dLdX1 = np.outer(dLdX2, W1)\n",
    "dLdX1\n",
    "\n",
    "f = lambda i, j: np.outer(i, j)\n",
    "vecF = np.vectorize(f, signature='(m),(n)->(m,n)')\n",
    "\n",
    "dLdW0PerSample = vecF(input, dLdX1)\n",
    "dLdW0 = dLdW0PerSample.sum(axis=0)\n",
    "dLdW0\n",
    "\n",
    "e = 1e-2\n",
    "W0 -= e * dLdW0\n",
    "W1 -= e * dLdW1.reshape(3, 1)\n",
    "\n",
    "W0\n",
    "W1"
   ]
  }
 ],
 "metadata": {
  "kernelspec": {
   "display_name": "Python 3 (ipykernel)",
   "language": "python",
   "name": "python3"
  },
  "language_info": {
   "codemirror_mode": {
    "name": "ipython",
    "version": 3
   },
   "file_extension": ".py",
   "mimetype": "text/x-python",
   "name": "python",
   "nbconvert_exporter": "python",
   "pygments_lexer": "ipython3",
   "version": "3.11.2"
  }
 },
 "nbformat": 4,
 "nbformat_minor": 5
}
