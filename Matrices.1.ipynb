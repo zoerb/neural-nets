{
 "cells": [
  {
   "cell_type": "code",
   "execution_count": 4,
   "id": "873152b5-281d-4f49-b280-ca4c67a3b18b",
   "metadata": {
    "tags": []
   },
   "outputs": [],
   "source": [
    "import numpy as np"
   ]
  },
  {
   "cell_type": "code",
   "execution_count": 245,
   "id": "93399b95-8259-43c9-ada0-f64eccecdea6",
   "metadata": {},
   "outputs": [],
   "source": [
    "input = np.array([[0, 0], [0, 0.5], [0, 1],\n",
    "                  [0.5, 0], [0.5, 0.5], [0.5, 1],\n",
    "                  [1, 0], [1, 0.5], [1, 1]])\n",
    "\n",
    "expected = np.array([0, 0, 0,\n",
    "                     0, 0, 1,\n",
    "                     0, 1, 1])"
   ]
  },
  {
   "cell_type": "code",
   "execution_count": 246,
   "id": "8d4e085c",
   "metadata": {},
   "outputs": [],
   "source": [
    "W0 = np.array([[0.61275508, 0.98539237, 0.27266151],\n",
    "               [0.47399039, 0.66266751, 0.72721264]])\n",
    "W1 = np.array([[0.96787958],\n",
    "               [0.80183257],\n",
    "               [0.94478099]])"
   ]
  },
  {
   "cell_type": "code",
   "execution_count": 247,
   "id": "d397c921",
   "metadata": {},
   "outputs": [
    {
     "data": {
      "text/plain": [
       "115.42383478039508"
      ]
     },
     "execution_count": 247,
     "metadata": {},
     "output_type": "execute_result"
    },
    {
     "data": {
      "text/plain": [
       "array([[0.        , 0.        , 0.        ],\n",
       "       [0.23699519, 0.33133376, 0.36360632],\n",
       "       [0.47399039, 0.66266751, 0.72721264],\n",
       "       [0.30637754, 0.49269619, 0.13633075],\n",
       "       [0.54337273, 0.82402994, 0.49993707],\n",
       "       [0.78036793, 1.1553637 , 0.86354339],\n",
       "       [0.61275508, 0.98539237, 0.27266151],\n",
       "       [0.84975027, 1.31672612, 0.63626783],\n",
       "       [1.08674547, 1.64805988, 0.99987415]])"
      ]
     },
     "execution_count": 247,
     "metadata": {},
     "output_type": "execute_result"
    },
    {
     "data": {
      "text/plain": [
       "array([[0.        , 0.        ],\n",
       "       [0.83858535, 0.        ],\n",
       "       [1.67717069, 0.        ],\n",
       "       [0.82039912, 0.        ],\n",
       "       [1.65898446, 0.        ],\n",
       "       [2.49756981, 1.        ],\n",
       "       [1.64079824, 0.        ],\n",
       "       [2.47938358, 1.        ],\n",
       "       [3.31796893, 1.        ]])"
      ]
     },
     "execution_count": 247,
     "metadata": {},
     "output_type": "execute_result"
    }
   ],
   "source": [
    "hidden = np.matmul(input, W0)\n",
    "out = np.matmul(hidden, W1)\n",
    "\n",
    "loss = abs(out - expected).sum()\n",
    "loss\n",
    "\n",
    "hidden\n",
    "np.column_stack([out, expected])"
   ]
  },
  {
   "cell_type": "code",
   "execution_count": 243,
   "id": "dc524bca",
   "metadata": {},
   "outputs": [
    {
     "data": {
      "text/plain": [
       "array([-0.18197936, -0.27617197, -0.16640302])"
      ]
     },
     "execution_count": 243,
     "metadata": {},
     "output_type": "execute_result"
    },
    {
     "data": {
      "text/plain": [
       "array([[4.5, 4.5, 4.5],\n",
       "       [4.5, 4.5, 4.5]])"
      ]
     },
     "execution_count": 243,
     "metadata": {},
     "output_type": "execute_result"
    },
    {
     "data": {
      "text/plain": [
       "array([[-0.81890712, -1.24277388, -0.74881358],\n",
       "       [-0.81890712, -1.24277388, -0.74881358]])"
      ]
     },
     "execution_count": 243,
     "metadata": {},
     "output_type": "execute_result"
    }
   ],
   "source": [
    "dLdW1 = (np.sign(out.squeeze() - expected) * hidden.T).sum(axis=1)\n",
    "dLdW1\n",
    "\n",
    "dHiddendW0 = np.tile(input.sum(axis = 0), (3, 1)).T\n",
    "dHiddendW0\n",
    "\n",
    "dLdW0 = dHiddendW0 * dLdW1\n",
    "dLdW0\n"
   ]
  },
  {
   "cell_type": "code",
   "execution_count": 244,
   "id": "3deb2352",
   "metadata": {},
   "outputs": [
    {
     "data": {
      "text/plain": [
       "array([[ 0.25218061,  0.43877718, -0.06012373],\n",
       "       [ 0.11341592,  0.11605232,  0.3944274 ]])"
      ]
     },
     "execution_count": 244,
     "metadata": {},
     "output_type": "execute_result"
    },
    {
     "data": {
      "text/plain": [
       "array([[0.88775192],\n",
       "       [0.68036253],\n",
       "       [0.87082871]])"
      ]
     },
     "execution_count": 244,
     "metadata": {},
     "output_type": "execute_result"
    }
   ],
   "source": [
    "e = 0.001\n",
    "W0 -= e * dLdW0\n",
    "W1 -= (e * dLdW1).reshape(3, 1)\n",
    "\n",
    "W0\n",
    "W1"
   ]
  }
 ],
 "metadata": {
  "kernelspec": {
   "display_name": "Python 3 (ipykernel)",
   "language": "python",
   "name": "python3"
  },
  "language_info": {
   "codemirror_mode": {
    "name": "ipython",
    "version": 3
   },
   "file_extension": ".py",
   "mimetype": "text/x-python",
   "name": "python",
   "nbconvert_exporter": "python",
   "pygments_lexer": "ipython3",
   "version": "3.11.2"
  }
 },
 "nbformat": 4,
 "nbformat_minor": 5
}
