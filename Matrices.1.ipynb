{
 "cells": [
  {
   "cell_type": "code",
   "execution_count": 1,
   "id": "873152b5-281d-4f49-b280-ca4c67a3b18b",
   "metadata": {
    "tags": []
   },
   "outputs": [],
   "source": [
    "import numpy as np\n",
    "import matplotlib.pyplot as plt\n",
    "\n",
    "from IPython.core.interactiveshell import InteractiveShell\n",
    "InteractiveShell.ast_node_interactivity = \"all\""
   ]
  },
  {
   "cell_type": "code",
   "execution_count": 2,
   "id": "93399b95-8259-43c9-ada0-f64eccecdea6",
   "metadata": {},
   "outputs": [],
   "source": [
    "input = np.array([[0, 0], [0, 0.5], [0, 1],\n",
    "                  [0.5, 0], [0.5, 0.5], [0.5, 1],\n",
    "                  [1, 0], [1, 0.5], [1, 1]])\n",
    "\n",
    "expected = np.array([0, 0, 0,\n",
    "                     0, 0, 1,\n",
    "                     0, 1, 1])"
   ]
  },
  {
   "cell_type": "code",
   "execution_count": null,
   "id": "8279f0e9",
   "metadata": {},
   "outputs": [],
   "source": [
    "# Extract x and y coordinates separately\n",
    "x_coords = x[:, 0]\n",
    "y_coords = x[:, 1]\n",
    "\n",
    "# Plot the data\n",
    "plt.scatter(x_coords[y == 0], y_coords[y == 0], color='blue')\n",
    "plt.scatter(x_coords[y == 1], y_coords[y == 1], color='red')\n",
    "plt.show()"
   ]
  },
  {
   "cell_type": "code",
   "execution_count": 258,
   "id": "8d4e085c",
   "metadata": {},
   "outputs": [],
   "source": [
    "W0 = np.array([[0.61275508, 0.98539237, 0.27266151],\n",
    "               [0.47399039, 0.66266751, 0.72721264]])\n",
    "W1 = np.array([[0.96787958],\n",
    "               [0.80183257],\n",
    "               [0.94478099]])"
   ]
  },
  {
   "cell_type": "code",
   "execution_count": 421,
   "id": "d397c921",
   "metadata": {},
   "outputs": [
    {
     "data": {
      "text/plain": [
       "40.41643842348143"
      ]
     },
     "execution_count": 421,
     "metadata": {},
     "output_type": "execute_result"
    },
    {
     "data": {
      "text/plain": [
       "array([[ 0.        ,  0.        ,  0.        ],\n",
       "       [ 0.05676384,  0.05811096,  0.19726479],\n",
       "       [ 0.11352768,  0.11622192,  0.39452959],\n",
       "       [ 0.12614619,  0.21947339, -0.03001077],\n",
       "       [ 0.18291003,  0.27758435,  0.16725402],\n",
       "       [ 0.23967387,  0.33569531,  0.36451882],\n",
       "       [ 0.25229237,  0.43894678, -0.06002154],\n",
       "       [ 0.30905621,  0.49705774,  0.13724325],\n",
       "       [ 0.36582005,  0.5551687 ,  0.33450805]])"
      ]
     },
     "execution_count": 421,
     "metadata": {},
     "output_type": "execute_result"
    },
    {
     "data": {
      "text/plain": [
       "array([[0.        , 0.        ],\n",
       "       [0.26172066, 0.        ],\n",
       "       [0.52344131, 0.        ],\n",
       "       [0.23518447, 0.        ],\n",
       "       [0.49690513, 0.        ],\n",
       "       [0.75862578, 1.        ],\n",
       "       [0.47036894, 0.        ],\n",
       "       [0.7320896 , 1.        ],\n",
       "       [0.99381025, 1.        ]])"
      ]
     },
     "execution_count": 421,
     "metadata": {},
     "output_type": "execute_result"
    }
   ],
   "source": [
    "hidden = np.matmul(input, W0)\n",
    "out = np.matmul(hidden, W1)\n",
    "\n",
    "loss = abs(out - expected).sum()\n",
    "loss\n",
    "\n",
    "hidden\n",
    "np.column_stack([out, expected])"
   ]
  },
  {
   "cell_type": "code",
   "execution_count": 422,
   "id": "dc524bca",
   "metadata": {},
   "outputs": [
    {
     "data": {
      "text/plain": [
       "array([-0.18291003, -0.27758435, -0.16725402])"
      ]
     },
     "execution_count": 422,
     "metadata": {},
     "output_type": "execute_result"
    },
    {
     "data": {
      "text/plain": [
       "array([[4.5, 4.5, 4.5],\n",
       "       [4.5, 4.5, 4.5]])"
      ]
     },
     "execution_count": 422,
     "metadata": {},
     "output_type": "execute_result"
    },
    {
     "data": {
      "text/plain": [
       "array([[-0.82309512, -1.24912958, -0.75264311],\n",
       "       [-0.82309512, -1.24912958, -0.75264311]])"
      ]
     },
     "execution_count": 422,
     "metadata": {},
     "output_type": "execute_result"
    }
   ],
   "source": [
    "dLdW1 = (np.sign(out.squeeze() - expected) * hidden.T).sum(axis=1)\n",
    "dLdW1\n",
    "\n",
    "dHiddendW0 = np.tile(input.sum(axis = 0), (3, 1)).T\n",
    "dHiddendW0\n",
    "\n",
    "dLdW0 = dHiddendW0 * dLdW1\n",
    "dLdW0\n"
   ]
  },
  {
   "cell_type": "code",
   "execution_count": 423,
   "id": "3deb2352",
   "metadata": {},
   "outputs": [
    {
     "data": {
      "text/plain": [
       "array([[ 0.25311547,  0.44019591, -0.0592689 ],\n",
       "       [ 0.11435078,  0.11747105,  0.39528223]])"
      ]
     },
     "execution_count": 423,
     "metadata": {},
     "output_type": "execute_result"
    },
    {
     "data": {
      "text/plain": [
       "array([[0.88795967],\n",
       "       [0.6806778 ],\n",
       "       [0.87101868]])"
      ]
     },
     "execution_count": 423,
     "metadata": {},
     "output_type": "execute_result"
    }
   ],
   "source": [
    "e = 0.001\n",
    "W0 -= e * dLdW0\n",
    "W1 -= (e * dLdW1).reshape(3, 1)\n",
    "\n",
    "W0\n",
    "W1"
   ]
  }
 ],
 "metadata": {
  "kernelspec": {
   "display_name": "Python 3 (ipykernel)",
   "language": "python",
   "name": "python3"
  },
  "language_info": {
   "codemirror_mode": {
    "name": "ipython",
    "version": 3
   },
   "file_extension": ".py",
   "mimetype": "text/x-python",
   "name": "python",
   "nbconvert_exporter": "python",
   "pygments_lexer": "ipython3",
   "version": "3.11.2"
  }
 },
 "nbformat": 4,
 "nbformat_minor": 5
}
