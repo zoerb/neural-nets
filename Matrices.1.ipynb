{
 "cells": [
  {
   "cell_type": "code",
   "execution_count": null,
   "id": "873152b5-281d-4f49-b280-ca4c67a3b18b",
   "metadata": {
    "tags": []
   },
   "outputs": [],
   "source": [
    "import numpy as np"
   ]
  },
  {
   "cell_type": "code",
   "execution_count": null,
   "id": "93399b95-8259-43c9-ada0-f64eccecdea6",
   "metadata": {},
   "outputs": [],
   "source": [
    "input = np.array([[0, 0], [0, 0.5], [0, 1],\n",
    "                  [0.5, 0], [0.5, 0.5], [0.5, 1],\n",
    "                  [1, 0], [1, 0.5], [1, 1]])\n",
    "\n",
    "expected = np.array([0, 0, 0,\n",
    "                     0, 0, 1,\n",
    "                     0, 1, 1])"
   ]
  },
  {
   "cell_type": "code",
   "execution_count": null,
   "id": "8d4e085c",
   "metadata": {},
   "outputs": [],
   "source": [
    "W0 = np.array([[0.61275508, 0.98539237, 0.27266151],\n",
    "               [0.47399039, 0.66266751, 0.72721264]])\n",
    "W1 = np.array([[0.96787958],\n",
    "               [0.80183257],\n",
    "               [0.94478099]])"
   ]
  },
  {
   "cell_type": "code",
   "execution_count": null,
   "id": "d397c921",
   "metadata": {},
   "outputs": [],
   "source": [
    "hidden = np.matmul(input, W0)\n",
    "out = np.matmul(hidden, W1)\n",
    "\n",
    "loss = abs(out - expected).sum()\n",
    "loss\n",
    "\n",
    "hidden\n",
    "np.column_stack([out, expected])"
   ]
  },
  {
   "cell_type": "code",
   "execution_count": null,
   "id": "dc524bca",
   "metadata": {},
   "outputs": [],
   "source": [
    "dLdW1 = (np.sign(out.squeeze() - expected) * hidden.T).sum(axis=1)\n",
    "dLdW1\n",
    "\n",
    "dHiddendW0 = np.tile(input.sum(axis = 0), (3, 1)).T\n",
    "dHiddendW0\n",
    "\n",
    "dLdW0 = dHiddendW0 * dLdW1\n",
    "dLdW0\n"
   ]
  },
  {
   "cell_type": "code",
   "execution_count": null,
   "id": "3deb2352",
   "metadata": {},
   "outputs": [],
   "source": [
    "e = 0.001\n",
    "W0 -= e * dLdW0\n",
    "W1 -= (e * dLdW1).reshape(3, 1)\n",
    "\n",
    "W0\n",
    "W1"
   ]
  }
 ],
 "metadata": {
  "kernelspec": {
   "display_name": "Python 3 (ipykernel)",
   "language": "python",
   "name": "python3"
  },
  "language_info": {
   "codemirror_mode": {
    "name": "ipython",
    "version": 3
   },
   "file_extension": ".py",
   "mimetype": "text/x-python",
   "name": "python",
   "nbconvert_exporter": "python",
   "pygments_lexer": "ipython3",
   "version": "3.11.2"
  }
 },
 "nbformat": 4,
 "nbformat_minor": 5
}
