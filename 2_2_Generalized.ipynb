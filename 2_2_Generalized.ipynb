{
 "cells": [
  {
   "cell_type": "code",
   "execution_count": null,
   "id": "873152b5-281d-4f49-b280-ca4c67a3b18b",
   "metadata": {
    "tags": []
   },
   "outputs": [],
   "source": [
    "import numpy as np\n",
    "from IPython import display\n",
    "from common import *"
   ]
  },
  {
   "cell_type": "code",
   "execution_count": null,
   "id": "8d4e085c",
   "metadata": {},
   "outputs": [],
   "source": [
    "input = input1\n",
    "expected = expected1\n",
    "\n",
    "# Num neurons per layer\n",
    "layers = [2, 3, 1]\n",
    "\n",
    "# Weights\n",
    "w = [np.random.rand(m, n) for m, n in zip(layers, layers[1:])]\n",
    "\n",
    "# Biases\n",
    "b = [np.random.rand(n) for n in layers[1:]]"
   ]
  },
  {
   "cell_type": "code",
   "execution_count": null,
   "id": "8298eb4d",
   "metadata": {},
   "outputs": [],
   "source": [
    "# Learning rate\n",
    "lr = 5e-3\n",
    "\n",
    "# Calculate the model's output, including values of all intermediate layers\n",
    "def forward(x):\n",
    "  xi = [x]\n",
    "\n",
    "  for i in range(len(layers) - 1):\n",
    "    xCur = np.matmul(xi[i], w[i]) + b[i]\n",
    "    xi.append(xCur)\n",
    "\n",
    "  return xi\n",
    "\n",
    "def loss(out):\n",
    "  return np.square(out - expected).sum()\n",
    "\n",
    "# Calculate how changes to the weights affect the loss\n",
    "def backward(xi):\n",
    "  dLdX = 2 * (xi[-1] - expected)\n",
    "  dLdW = []\n",
    "  dLdB = []\n",
    "\n",
    "  for i in range(len(layers) - 1):\n",
    "    dXdW = xi[-(i+2)]\n",
    "    dLdWCur = elemOuter(dXdW, dLdX).sum(0)\n",
    "    dLdW.append(dLdWCur)\n",
    "    \n",
    "    dXdB = 1\n",
    "    dLdBCur = (dLdX * dXdB).sum(0)\n",
    "    dLdB.append(dLdBCur)\n",
    "\n",
    "    dXdX = w[-(i+1)].T\n",
    "    dLdX = np.matmul(dLdX, dXdX)\n",
    "  \n",
    "  dLdW.reverse()\n",
    "  dLdB.reverse()\n",
    "  return dLdW, dLdB\n",
    "\n",
    "def updateWeights(dLdW, dLdB):\n",
    "  for i in range(len(w)):\n",
    "    w[i] -= lr * dLdW[i]\n",
    "\n",
    "  for i in range(len(b)):\n",
    "    b[i] -= lr * dLdB[i]"
   ]
  },
  {
   "cell_type": "code",
   "execution_count": null,
   "id": "49a0463f",
   "metadata": {},
   "outputs": [],
   "source": [
    "epochs = 50\n",
    "\n",
    "# Training loop\n",
    "for i in range(epochs):\n",
    "  xi = forward(input)\n",
    "\n",
    "  # Visualize output and loss\n",
    "  display.clear_output(wait=True)\n",
    "  plot(input, forward(test)[-1], expected)\n",
    "  print(\"Epoch: \", i + 1)\n",
    "  print(\"Loss: \", loss(xi[-1]))\n",
    "  \n",
    "  dLdW, dLdB = backward(xi)\n",
    "  updateWeights(dLdW, dLdB)"
   ]
  }
 ],
 "metadata": {
  "kernelspec": {
   "display_name": "Python 3 (ipykernel)",
   "language": "python",
   "name": "python3"
  },
  "language_info": {
   "codemirror_mode": {
    "name": "ipython",
    "version": 3
   },
   "file_extension": ".py",
   "mimetype": "text/x-python",
   "name": "python",
   "nbconvert_exporter": "python",
   "pygments_lexer": "ipython3",
   "version": "3.11.2"
  }
 },
 "nbformat": 4,
 "nbformat_minor": 5
}
