{
 "cells": [
  {
   "cell_type": "code",
   "execution_count": 88,
   "id": "873152b5-281d-4f49-b280-ca4c67a3b18b",
   "metadata": {
    "tags": []
   },
   "outputs": [],
   "source": [
    "import numpy as np\n",
    "import matplotlib.pyplot as plt"
   ]
  },
  {
   "cell_type": "code",
   "execution_count": 66,
   "id": "93399b95-8259-43c9-ada0-f64eccecdea6",
   "metadata": {},
   "outputs": [],
   "source": [
    "input = np.array([[0, 0], [0, 0.5], [0, 1],\n",
    "                  [0.5, 0], [0.5, 0.5], [0.5, 1],\n",
    "                  [1, 0], [1, 0.5], [1, 1]])\n",
    "\n",
    "expected = np.array([0, 0, 0,\n",
    "                     0, 0, 1,\n",
    "                     0, 1, 1])"
   ]
  },
  {
   "cell_type": "code",
   "execution_count": null,
   "id": "8279f0e9",
   "metadata": {},
   "outputs": [],
   "source": [
    "# Extract x and y coordinates separately\n",
    "x_coords = x[:, 0]\n",
    "y_coords = x[:, 1]\n",
    "\n",
    "# Plot the data\n",
    "plt.scatter(x_coords[y == 0], y_coords[y == 0], color='blue')\n",
    "plt.scatter(x_coords[y == 1], y_coords[y == 1], color='red')\n",
    "plt.show()"
   ]
  },
  {
   "cell_type": "code",
   "execution_count": 205,
   "id": "8d4e085c",
   "metadata": {},
   "outputs": [],
   "source": [
    "W = np.array([0.69829777, 0.39610727])"
   ]
  },
  {
   "cell_type": "code",
   "execution_count": 366,
   "id": "1b29446f",
   "metadata": {},
   "outputs": [
    {
     "data": {
      "text/plain": [
       "0.024148885000000057"
      ]
     },
     "execution_count": 366,
     "metadata": {},
     "output_type": "execute_result"
    }
   ],
   "source": [
    "n = 3\n",
    "\n",
    "out = input[n, 0] * W[0] + input[n, 1] * W[1]\n",
    "loss = abs(out - expected[n])\n",
    "loss"
   ]
  },
  {
   "cell_type": "code",
   "execution_count": 367,
   "id": "dc524bca",
   "metadata": {},
   "outputs": [
    {
     "data": {
      "text/plain": [
       "0.5"
      ]
     },
     "execution_count": 367,
     "metadata": {},
     "output_type": "execute_result"
    }
   ],
   "source": [
    "dLdW0 = np.sign(out - expected[n]) * input[n, 0]\n",
    "dLdW0"
   ]
  },
  {
   "cell_type": "code",
   "execution_count": 368,
   "id": "d51378da",
   "metadata": {},
   "outputs": [
    {
     "data": {
      "text/plain": [
       "0.0"
      ]
     },
     "execution_count": 368,
     "metadata": {},
     "output_type": "execute_result"
    }
   ],
   "source": [
    "\n",
    "dLdW1 = np.sign(out - expected[n]) * input[n, 1]\n",
    "dLdW1"
   ]
  },
  {
   "cell_type": "code",
   "execution_count": 369,
   "id": "8c30b11f",
   "metadata": {},
   "outputs": [],
   "source": [
    "e = 0.05\n",
    "W[0] -= e * np.sign(dLdW0)\n",
    "W[1] -= e * np.sign(dLdW1)"
   ]
  }
 ],
 "metadata": {
  "kernelspec": {
   "display_name": "Python 3 (ipykernel)",
   "language": "python",
   "name": "python3"
  },
  "language_info": {
   "codemirror_mode": {
    "name": "ipython",
    "version": 3
   },
   "file_extension": ".py",
   "mimetype": "text/x-python",
   "name": "python",
   "nbconvert_exporter": "python",
   "pygments_lexer": "ipython3",
   "version": "3.11.2"
  }
 },
 "nbformat": 4,
 "nbformat_minor": 5
}
