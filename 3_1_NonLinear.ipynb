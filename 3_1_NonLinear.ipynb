{
 "cells": [
  {
   "attachments": {},
   "cell_type": "markdown",
   "id": "799ed6dc",
   "metadata": {},
   "source": [
    "Add non-linear activation functions."
   ]
  },
  {
   "cell_type": "code",
   "execution_count": null,
   "id": "873152b5-281d-4f49-b280-ca4c67a3b18b",
   "metadata": {
    "tags": []
   },
   "outputs": [],
   "source": [
    "import numpy as np\n",
    "from IPython import display\n",
    "from common import *"
   ]
  },
  {
   "cell_type": "code",
   "execution_count": null,
   "id": "8d4e085c",
   "metadata": {},
   "outputs": [],
   "source": [
    "expected = expected1\n",
    "\n",
    "# Num neurons per layer\n",
    "layers = [2, 6, 1]\n",
    "\n",
    "# Weights\n",
    "w = [np.random.rand(m, n) for m, n in zip(layers, layers[1:])]\n",
    "\n",
    "# Biases\n",
    "b = [np.random.rand(n) for n in layers[1:]]"
   ]
  },
  {
   "cell_type": "code",
   "execution_count": null,
   "id": "8298eb4d",
   "metadata": {},
   "outputs": [],
   "source": [
    "lr = 8e-4\n",
    "\n",
    "def reluF(x): return max(x, 0)\n",
    "relu = np.vectorize(reluF)\n",
    "\n",
    "def reluFPrime(x): return 0 if x < 0 else 1\n",
    "reluPrime = np.vectorize(reluFPrime)\n",
    "\n",
    "# Calculate the model's output, including values of all intermediate layers\n",
    "def forward(x):\n",
    "  xi = [x]\n",
    "\n",
    "  for i in range(len(layers) - 1):\n",
    "    xiCur = np.matmul(xi[i], w[i]) + b[i]\n",
    "    # Don't apply relu activation on output layer\n",
    "    activ = xiCur if (i == len(layers) - 2) else relu(xiCur)\n",
    "    xi.append(activ)\n",
    "\n",
    "  return xi\n",
    "\n",
    "\n",
    "def loss(out):\n",
    "  return np.square(out - expected).sum()\n",
    "\n",
    "\n",
    "# Calculate how changes to the weights and biases affect the loss\n",
    "def backward(xi):\n",
    "  dLdX = 2 * (xi[-1] - expected)\n",
    "  dLdW = []\n",
    "  dLdB = []\n",
    "\n",
    "  for i in range(len(layers) - 1):\n",
    "    prevX = xi[-(i+2)]\n",
    "    curW = w[-(i+1)]\n",
    "    curB = b[-(i+1)]\n",
    "\n",
    "    nonActivPrevX = np.matmul(prevX, curW) + curB\n",
    "    # No activation function on output layer\n",
    "    activPrime = np.ones_like(nonActivPrevX) if i == 0 else reluPrime(nonActivPrevX)\n",
    "\n",
    "    dXdW = elemOuter(prevX, activPrime)\n",
    "    dLdWCur = (elemDot(dXdW, dLdX)).sum(0)\n",
    "    dLdW.append(dLdWCur)\n",
    "\n",
    "    dXdB = activPrime\n",
    "    dLdBCur = (dLdX * dXdB).sum(0)\n",
    "    dLdB.append(dLdBCur)\n",
    "\n",
    "    dXdX = curW * activPrime.sum(0)\n",
    "    dLdX = np.matmul(dLdX, dXdX.T)\n",
    "  \n",
    "  dLdW.reverse()\n",
    "  dLdB.reverse()\n",
    "  return dLdW, dLdB\n",
    "\n",
    "\n",
    "def updateWeights(dLdW, dLdB):\n",
    "  for i in range(len(w)):\n",
    "    w[i] -= lr * dLdW[i]\n",
    "\n",
    "  for i in range(len(b)):\n",
    "    b[i] -= lr * dLdB[i]"
   ]
  },
  {
   "cell_type": "code",
   "execution_count": null,
   "id": "49a0463f",
   "metadata": {},
   "outputs": [],
   "source": [
    "epochs = 100\n",
    "\n",
    "# Training loop\n",
    "for i in range(epochs):\n",
    "  xi = forward(input)\n",
    "\n",
    "  # Visualize output and loss\n",
    "  display.clear_output(wait=True)\n",
    "  plot(forward(test)[-1], expected)\n",
    "  print(\"Epoch: \", i + 1)\n",
    "  print(\"Loss: \", loss(xi[-1]))\n",
    "  \n",
    "  dLdW, dLdB = backward(xi)\n",
    "  updateWeights(dLdW, dLdB)"
   ]
  }
 ],
 "metadata": {
  "kernelspec": {
   "display_name": "Python 3 (ipykernel)",
   "language": "python",
   "name": "python3"
  },
  "language_info": {
   "codemirror_mode": {
    "name": "ipython",
    "version": 3
   },
   "file_extension": ".py",
   "mimetype": "text/x-python",
   "name": "python",
   "nbconvert_exporter": "python",
   "pygments_lexer": "ipython3",
   "version": "3.11.2"
  }
 },
 "nbformat": 4,
 "nbformat_minor": 5
}
