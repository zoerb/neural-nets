{
 "cells": [
  {
   "cell_type": "code",
   "execution_count": 1,
   "id": "873152b5-281d-4f49-b280-ca4c67a3b18b",
   "metadata": {
    "tags": []
   },
   "outputs": [],
   "source": [
    "import numpy as np"
   ]
  },
  {
   "cell_type": "code",
   "execution_count": 2,
   "id": "93399b95-8259-43c9-ada0-f64eccecdea6",
   "metadata": {},
   "outputs": [],
   "source": [
    "input = np.array([[0, 0], [0, 0.5], [0, 1],\n",
    "                  [0.5, 0], [0.5, 0.5], [0.5, 1],\n",
    "                  [1, 0], [1, 0.5], [1, 1]])\n",
    "\n",
    "expected = np.array([0, 0, 0,\n",
    "                     0, 0, 1,\n",
    "                     0, 1, 1])"
   ]
  },
  {
   "cell_type": "code",
   "execution_count": 3,
   "id": "8d4e085c",
   "metadata": {},
   "outputs": [],
   "source": [
    "W = np.array([0.69829777, 0.39610727])"
   ]
  },
  {
   "cell_type": "code",
   "execution_count": 4,
   "id": "d397c921",
   "metadata": {},
   "outputs": [
    {
     "data": {
      "text/plain": [
       "2.6416075599999997"
      ]
     },
     "execution_count": 4,
     "metadata": {},
     "output_type": "execute_result"
    },
    {
     "data": {
      "text/plain": [
       "array([[0.        , 0.        ],\n",
       "       [0.19805364, 0.        ],\n",
       "       [0.39610727, 0.        ],\n",
       "       [0.34914889, 0.        ],\n",
       "       [0.54720252, 0.        ],\n",
       "       [0.74525616, 1.        ],\n",
       "       [0.69829777, 0.        ],\n",
       "       [0.89635141, 1.        ],\n",
       "       [1.09440504, 1.        ]])"
      ]
     },
     "execution_count": 4,
     "metadata": {},
     "output_type": "execute_result"
    }
   ],
   "source": [
    "out = np.matmul(input, W)\n",
    "\n",
    "loss = abs(out - expected).sum()\n",
    "loss\n",
    "\n",
    "np.column_stack([out, expected])"
   ]
  },
  {
   "cell_type": "code",
   "execution_count": 5,
   "id": "dc524bca",
   "metadata": {},
   "outputs": [
    {
     "data": {
      "text/plain": [
       "1.5"
      ]
     },
     "execution_count": 5,
     "metadata": {},
     "output_type": "execute_result"
    },
    {
     "data": {
      "text/plain": [
       "1.5"
      ]
     },
     "execution_count": 5,
     "metadata": {},
     "output_type": "execute_result"
    }
   ],
   "source": [
    "dLdW0 = (np.sign(out - expected) * input[:,0]).sum()\n",
    "dLdW0\n",
    "\n",
    "dLdW1 = (np.sign(out - expected) * input[:,1]).sum()\n",
    "dLdW1"
   ]
  },
  {
   "cell_type": "code",
   "execution_count": 6,
   "id": "3deb2352",
   "metadata": {},
   "outputs": [
    {
     "data": {
      "text/plain": [
       "0.68829777"
      ]
     },
     "execution_count": 6,
     "metadata": {},
     "output_type": "execute_result"
    },
    {
     "data": {
      "text/plain": [
       "0.38610727"
      ]
     },
     "execution_count": 6,
     "metadata": {},
     "output_type": "execute_result"
    }
   ],
   "source": [
    "e = 0.01\n",
    "W[0] -= e * np.sign(dLdW0)\n",
    "W[1] -= e * np.sign(dLdW1)\n",
    "\n",
    "W[0]\n",
    "W[1]"
   ]
  }
 ],
 "metadata": {
  "kernelspec": {
   "display_name": "Python 3 (ipykernel)",
   "language": "python",
   "name": "python3"
  },
  "language_info": {
   "codemirror_mode": {
    "name": "ipython",
    "version": 3
   },
   "file_extension": ".py",
   "mimetype": "text/x-python",
   "name": "python",
   "nbconvert_exporter": "python",
   "pygments_lexer": "ipython3",
   "version": "3.11.2"
  }
 },
 "nbformat": 4,
 "nbformat_minor": 5
}
