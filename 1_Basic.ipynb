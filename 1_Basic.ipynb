{
 "cells": [
  {
   "cell_type": "code",
   "execution_count": null,
   "id": "873152b5-281d-4f49-b280-ca4c67a3b18b",
   "metadata": {
    "tags": []
   },
   "outputs": [],
   "source": [
    "import numpy as np\n",
    "import matplotlib.pyplot as plt\n",
    "\n",
    "from Common import *"
   ]
  },
  {
   "cell_type": "code",
   "execution_count": null,
   "id": "8279f0e9",
   "metadata": {},
   "outputs": [],
   "source": [
    "plt.scatter(input[:, 0], input[:, 1], c=expected, cmap=cmap)"
   ]
  },
  {
   "cell_type": "code",
   "execution_count": null,
   "id": "8d4e085c",
   "metadata": {},
   "outputs": [],
   "source": [
    "W0 = -0.69829777\n",
    "W1 = 0.39610727"
   ]
  },
  {
   "cell_type": "code",
   "execution_count": null,
   "id": "1b29446f",
   "metadata": {},
   "outputs": [],
   "source": [
    "n = 3\n",
    "\n",
    "out = input[n, 0] * W0 + input[n, 1] * W1\n",
    "loss = abs(out - expected[n])\n",
    "loss"
   ]
  },
  {
   "cell_type": "code",
   "execution_count": null,
   "id": "dc524bca",
   "metadata": {},
   "outputs": [],
   "source": [
    "dLdW0 = np.sign(out - expected[n]) * input[n, 0]\n",
    "dLdW1 = np.sign(out - expected[n]) * input[n, 1]\n",
    "\n",
    "dLdW0\n",
    "dLdW1"
   ]
  },
  {
   "cell_type": "code",
   "execution_count": null,
   "id": "8c30b11f",
   "metadata": {},
   "outputs": [],
   "source": [
    "e = 1e-1\n",
    "W0 -= e * np.sign(dLdW0)\n",
    "W1 -= e * np.sign(dLdW1)\n",
    "W0\n",
    "W1"
   ]
  },
  {
   "cell_type": "code",
   "execution_count": null,
   "id": "5e27f73a",
   "metadata": {},
   "outputs": [],
   "source": [
    "out_test = np.matmul(test, np.array([W0, W1]))\n",
    "plt.scatter(test[:, 0], test[:, 1], c=out_test, cmap=cmap)"
   ]
  },
  {
   "cell_type": "code",
   "execution_count": null,
   "id": "983def52",
   "metadata": {},
   "outputs": [],
   "source": []
  }
 ],
 "metadata": {
  "kernelspec": {
   "display_name": "Python 3 (ipykernel)",
   "language": "python",
   "name": "python3"
  },
  "language_info": {
   "codemirror_mode": {
    "name": "ipython",
    "version": 3
   },
   "file_extension": ".py",
   "mimetype": "text/x-python",
   "name": "python",
   "nbconvert_exporter": "python",
   "pygments_lexer": "ipython3",
   "version": "3.11.2"
  }
 },
 "nbformat": 4,
 "nbformat_minor": 5
}
