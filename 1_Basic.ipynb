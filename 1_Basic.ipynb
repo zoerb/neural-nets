{
 "cells": [
  {
   "cell_type": "code",
   "execution_count": null,
   "id": "873152b5-281d-4f49-b280-ca4c67a3b18b",
   "metadata": {
    "tags": []
   },
   "outputs": [],
   "source": [
    "import numpy as np\n",
    "from common import *"
   ]
  },
  {
   "cell_type": "code",
   "execution_count": null,
   "id": "8279f0e9",
   "metadata": {},
   "outputs": [],
   "source": [
    "plotScatter(input, expected)"
   ]
  },
  {
   "cell_type": "code",
   "execution_count": null,
   "id": "8d4e085c",
   "metadata": {},
   "outputs": [],
   "source": [
    "W0 = -0.69829777\n",
    "W1 = 0.39610727"
   ]
  },
  {
   "cell_type": "code",
   "execution_count": null,
   "id": "1b29446f",
   "metadata": {},
   "outputs": [],
   "source": [
    "n = 0\n",
    "input[n]"
   ]
  },
  {
   "cell_type": "code",
   "execution_count": null,
   "id": "dee437ed",
   "metadata": {},
   "outputs": [],
   "source": [
    "out = input[n, 0] * W0 + input[n, 1] * W1\n",
    "loss = abs(out - expected[n])\n",
    "loss\n",
    "\n",
    "out_test = np.matmul(test, np.array([W0, W1]))\n",
    "plot(out_test)"
   ]
  },
  {
   "cell_type": "code",
   "execution_count": null,
   "id": "dc524bca",
   "metadata": {},
   "outputs": [],
   "source": [
    "dLdW0 = np.sign(out - expected[n]) * input[n, 0]\n",
    "dLdW1 = np.sign(out - expected[n]) * input[n, 1]\n",
    "\n",
    "dLdW0\n",
    "dLdW1"
   ]
  },
  {
   "cell_type": "code",
   "execution_count": null,
   "id": "8c30b11f",
   "metadata": {},
   "outputs": [],
   "source": [
    "e = 5e-2\n",
    "W0 -= e * np.sign(dLdW0)\n",
    "W1 -= e * np.sign(dLdW1)\n",
    "W0\n",
    "W1"
   ]
  }
 ],
 "metadata": {
  "kernelspec": {
   "display_name": "Python 3 (ipykernel)",
   "language": "python",
   "name": "python3"
  },
  "language_info": {
   "codemirror_mode": {
    "name": "ipython",
    "version": 3
   },
   "file_extension": ".py",
   "mimetype": "text/x-python",
   "name": "python",
   "nbconvert_exporter": "python",
   "pygments_lexer": "ipython3",
   "version": "3.11.2"
  }
 },
 "nbformat": 4,
 "nbformat_minor": 5
}
