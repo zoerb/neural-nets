{
 "cells": [
  {
   "cell_type": "code",
   "execution_count": null,
   "id": "873152b5-281d-4f49-b280-ca4c67a3b18b",
   "metadata": {
    "tags": []
   },
   "outputs": [],
   "source": [
    "import numpy as np\n",
    "import matplotlib.pyplot as plt\n",
    "\n",
    "from Common import *"
   ]
  },
  {
   "cell_type": "code",
   "execution_count": null,
   "id": "71a21e70",
   "metadata": {},
   "outputs": [],
   "source": [
    "plt.scatter(input[:, 0], input[:, 1], c=expected, cmap=cmap)"
   ]
  },
  {
   "cell_type": "code",
   "execution_count": null,
   "id": "8d4e085c",
   "metadata": {},
   "outputs": [],
   "source": [
    "W = np.array([0.69829777, -0.39610727])"
   ]
  },
  {
   "cell_type": "code",
   "execution_count": null,
   "id": "5bef2ff0",
   "metadata": {},
   "outputs": [],
   "source": [
    "def run(i):\n",
    "  return np.matmul(i, W)"
   ]
  },
  {
   "cell_type": "code",
   "execution_count": null,
   "id": "d397c921",
   "metadata": {},
   "outputs": [],
   "source": [
    "out = run(input)\n",
    "loss = abs(out - expected).sum()\n",
    "loss\n",
    "\n",
    "#np.column_stack([out, expected])"
   ]
  },
  {
   "cell_type": "code",
   "execution_count": null,
   "id": "a24d2094",
   "metadata": {},
   "outputs": [],
   "source": [
    "#plt.scatter(test[:, 0], test[:, 1], c=run(test), cmap=cmap)\n",
    "plt.imshow(run(test).reshape(11, 11), cmap=cmap)"
   ]
  },
  {
   "cell_type": "code",
   "execution_count": null,
   "id": "dc524bca",
   "metadata": {},
   "outputs": [],
   "source": [
    "dLdW = (np.sign(out - expected) * input.T).sum(axis=1)\n",
    "dLdW"
   ]
  },
  {
   "cell_type": "code",
   "execution_count": null,
   "id": "3deb2352",
   "metadata": {},
   "outputs": [],
   "source": [
    "e = 1e-2\n",
    "W -= e * dLdW\n",
    "W"
   ]
  }
 ],
 "metadata": {
  "kernelspec": {
   "display_name": "Python 3 (ipykernel)",
   "language": "python",
   "name": "python3"
  },
  "language_info": {
   "codemirror_mode": {
    "name": "ipython",
    "version": 3
   },
   "file_extension": ".py",
   "mimetype": "text/x-python",
   "name": "python",
   "nbconvert_exporter": "python",
   "pygments_lexer": "ipython3",
   "version": "3.11.2"
  }
 },
 "nbformat": 4,
 "nbformat_minor": 5
}
