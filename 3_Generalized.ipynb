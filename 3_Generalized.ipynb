{
 "cells": [
  {
   "cell_type": "code",
   "execution_count": null,
   "id": "873152b5-281d-4f49-b280-ca4c67a3b18b",
   "metadata": {
    "tags": []
   },
   "outputs": [],
   "source": [
    "import numpy as np\n",
    "from IPython import display\n",
    "from common import *"
   ]
  },
  {
   "cell_type": "code",
   "execution_count": null,
   "id": "8d4e085c",
   "metadata": {},
   "outputs": [],
   "source": [
    "# Num neurons per layer\n",
    "layers = [2, 5, 5, 1]\n",
    "\n",
    "# Weights\n",
    "w = [np.random.rand(m, n) * 2 - 1 for m, n in zip(layers, layers[1:])]\n",
    "\n",
    "for wi in w: print(wi.shape)"
   ]
  },
  {
   "cell_type": "code",
   "execution_count": null,
   "id": "8298eb4d",
   "metadata": {},
   "outputs": [],
   "source": [
    "# Learning rate\n",
    "lr = 2e-3\n",
    "\n",
    "# Calculate the model's output, including values of all intermediate layers\n",
    "def forward(x):\n",
    "  xi = [x]\n",
    "\n",
    "  for i in range(len(layers) - 1):\n",
    "    xi.append(np.matmul(xi[i], w[i]))\n",
    "\n",
    "  return xi\n",
    "\n",
    "\n",
    "def loss(out):\n",
    "  return abs(expected - out).sum()\n",
    "\n",
    "\n",
    "# Calculate how changes to the weights affect the loss\n",
    "def backward(xi):\n",
    "  dLdX = [-np.sign(expected - xi[-1])]\n",
    "  dLdW = []\n",
    "\n",
    "  for i in range(len(layers) - 1):\n",
    "    dLdWCur = elemOuter(xi[-(i+2)], dLdX[i]).sum(0)\n",
    "    dLdW.append(dLdWCur)\n",
    "\n",
    "    dLdXCur = np.matmul(dLdX[i], w[-(i+1)].T)\n",
    "    dLdX.append(dLdXCur)\n",
    "  \n",
    "  dLdW.reverse()\n",
    "  return dLdW\n",
    "\n",
    "\n",
    "def updateWeights(dLdW):\n",
    "  for i in range(len(w)):\n",
    "    w[i] -= lr * dLdW[i]"
   ]
  },
  {
   "cell_type": "code",
   "execution_count": null,
   "id": "49a0463f",
   "metadata": {},
   "outputs": [],
   "source": [
    "epochs = 50\n",
    "\n",
    "# Training loop\n",
    "for _ in range(epochs):\n",
    "  xi = forward(input)\n",
    "\n",
    "  # Visualize output and loss\n",
    "  display.clear_output(wait=True)\n",
    "  plot(forward(test)[-1])\n",
    "  print(\"Loss: \", loss(xi[-1]))\n",
    "  \n",
    "  dLdW = backward(xi)\n",
    "  updateWeights(dLdW)"
   ]
  }
 ],
 "metadata": {
  "kernelspec": {
   "display_name": "Python 3 (ipykernel)",
   "language": "python",
   "name": "python3"
  },
  "language_info": {
   "codemirror_mode": {
    "name": "ipython",
    "version": 3
   },
   "file_extension": ".py",
   "mimetype": "text/x-python",
   "name": "python",
   "nbconvert_exporter": "python",
   "pygments_lexer": "ipython3",
   "version": "3.11.2"
  }
 },
 "nbformat": 4,
 "nbformat_minor": 5
}
