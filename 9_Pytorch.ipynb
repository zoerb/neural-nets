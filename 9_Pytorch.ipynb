{
 "cells": [
  {
   "cell_type": "code",
   "execution_count": null,
   "id": "873152b5-281d-4f49-b280-ca4c67a3b18b",
   "metadata": {
    "tags": []
   },
   "outputs": [],
   "source": [
    "import numpy as np\n",
    "\n",
    "import torch\n",
    "from torch import nn\n",
    "\n",
    "import matplotlib\n",
    "import matplotlib.pyplot as plt\n",
    "\n",
    "from IPython import display"
   ]
  },
  {
   "cell_type": "code",
   "execution_count": null,
   "id": "93399b95-8259-43c9-ada0-f64eccecdea6",
   "metadata": {
    "tags": []
   },
   "outputs": [],
   "source": [
    "vals = np.linspace(0.0, 2.0, 5, dtype=np.single)\n",
    "input = torch.tensor([[x, 2 - y] for y in vals for x in vals])\n",
    "\n",
    "expected = torch.tensor([\n",
    "    0, 1, 1, 1, 1,\n",
    "    0, 0, 1, 1, 1,\n",
    "    0, 0, 0, 1, 1,\n",
    "    0, 0, 0, 0, 1,\n",
    "    0, 0, 0, 0, 0,\n",
    "]).reshape(-1, 1).to(torch.float32)"
   ]
  },
  {
   "cell_type": "code",
   "execution_count": null,
   "id": "963c29b1",
   "metadata": {},
   "outputs": [],
   "source": [
    "vals = np.linspace(0.0, 2.0, 5)\n",
    "test = torch.tensor([[x, y] for y in vals for x in vals]).to(torch.float32)"
   ]
  },
  {
   "cell_type": "code",
   "execution_count": null,
   "id": "34839baf",
   "metadata": {
    "tags": []
   },
   "outputs": [],
   "source": [
    "class NeuralNetwork(nn.Module):\n",
    "    def __init__(self):\n",
    "        super().__init__()\n",
    "        self.linear_relu_stack = nn.Sequential(\n",
    "            nn.Linear(2, 3),\n",
    "            nn.ReLU(),\n",
    "            nn.Linear(3, 1),\n",
    "        )\n",
    "\n",
    "    def forward(self, x):\n",
    "        logits = self.linear_relu_stack(x)\n",
    "        return logits\n",
    "\n",
    "model = NeuralNetwork()"
   ]
  },
  {
   "cell_type": "code",
   "execution_count": null,
   "id": "30a86e54",
   "metadata": {
    "tags": []
   },
   "outputs": [],
   "source": [
    "loss_fn = nn.L1Loss()\n",
    "optimizer = torch.optim.SGD(model.parameters(), lr=1e-3)\n",
    "\n",
    "def train_loop():\n",
    "    # Compute prediction and loss\n",
    "    out = model(input)\n",
    "    loss = loss_fn(out, expected)\n",
    "\n",
    "    # Backpropagation\n",
    "    optimizer.zero_grad()\n",
    "    loss.backward()\n",
    "    optimizer.step()\n",
    "\n",
    "    return loss"
   ]
  },
  {
   "cell_type": "code",
   "execution_count": null,
   "id": "78fc97b8",
   "metadata": {
    "tags": []
   },
   "outputs": [],
   "source": [
    "pred = model(input).flatten().detach().numpy()\n",
    "\n",
    "plt.ion()\n",
    "\n",
    "fig, ax = plt.subplots()\n",
    "scat = ax.scatter(input[:, 0], input[:, 1], c=pred, cmap=\"RdYlBu_r\", norm=matplotlib.colors.CenteredNorm(1, halfrange=0.5))\n",
    "plt.show()\n",
    "\n",
    "epochs = 40000\n",
    "for t in range(epochs):\n",
    "    loss = train_loop()\n",
    "\n",
    "    if t % (epochs / 10) == 0:\n",
    "\n",
    "        pred = model(input).flatten().detach().numpy()\n",
    "        scat.set_array(pred)\n",
    "\n",
    "        display.clear_output(wait=True)\n",
    "        print(loss.item())\n",
    "        display.display(fig)"
   ]
  },
  {
   "cell_type": "code",
   "execution_count": null,
   "id": "2c5fa25d",
   "metadata": {},
   "outputs": [],
   "source": []
  }
 ],
 "metadata": {
  "kernelspec": {
   "display_name": "Python 3 (ipykernel)",
   "language": "python",
   "name": "python3"
  },
  "language_info": {
   "codemirror_mode": {
    "name": "ipython",
    "version": 3
   },
   "file_extension": ".py",
   "mimetype": "text/x-python",
   "name": "python",
   "nbconvert_exporter": "python",
   "pygments_lexer": "ipython3",
   "version": "3.11.2"
  }
 },
 "nbformat": 4,
 "nbformat_minor": 5
}
