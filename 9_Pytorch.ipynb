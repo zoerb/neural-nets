{
 "cells": [
  {
   "cell_type": "code",
   "execution_count": null,
   "id": "873152b5-281d-4f49-b280-ca4c67a3b18b",
   "metadata": {
    "tags": []
   },
   "outputs": [],
   "source": [
    "import numpy as np\n",
    "\n",
    "import torch\n",
    "from torch import nn\n",
    "\n",
    "from IPython import display\n",
    "\n",
    "from common import *"
   ]
  },
  {
   "cell_type": "code",
   "execution_count": null,
   "id": "93399b95-8259-43c9-ada0-f64eccecdea6",
   "metadata": {
    "tags": []
   },
   "outputs": [],
   "source": [
    "input = input2\n",
    "expected = expected3\n",
    "\n",
    "inputT = torch.tensor(input).to(torch.float32)\n",
    "expectedT = torch.tensor(expected).to(torch.float32)\n",
    "testT = torch.tensor(test).to(torch.float32)"
   ]
  },
  {
   "cell_type": "code",
   "execution_count": null,
   "id": "34839baf",
   "metadata": {
    "tags": []
   },
   "outputs": [],
   "source": [
    "class NeuralNetwork(nn.Module):\n",
    "    def __init__(self):\n",
    "        super().__init__()\n",
    "        self.linear_relu_stack = nn.Sequential(\n",
    "            nn.Linear(2, 5),\n",
    "            nn.ReLU(),\n",
    "            nn.Linear(5, 1),\n",
    "        )\n",
    "\n",
    "    def forward(self, x):\n",
    "        logits = self.linear_relu_stack(x)\n",
    "        return logits\n",
    "\n",
    "model = NeuralNetwork()"
   ]
  },
  {
   "cell_type": "code",
   "execution_count": null,
   "id": "30a86e54",
   "metadata": {
    "tags": []
   },
   "outputs": [],
   "source": [
    "loss_fn = nn.L1Loss()\n",
    "optimizer = torch.optim.SGD(model.parameters(), lr=1e-3)\n",
    "\n",
    "def train_loop():\n",
    "    # Compute prediction and loss\n",
    "    out = model(inputT)\n",
    "    loss = loss_fn(out, expectedT)\n",
    "\n",
    "    # Backpropagation\n",
    "    optimizer.zero_grad()\n",
    "    loss.backward()\n",
    "    optimizer.step()\n",
    "\n",
    "    return loss"
   ]
  },
  {
   "cell_type": "code",
   "execution_count": null,
   "id": "78fc97b8",
   "metadata": {
    "tags": []
   },
   "outputs": [],
   "source": [
    "epochs = int(1e4)\n",
    "for i in range(epochs):\n",
    "    loss = train_loop()\n",
    "\n",
    "    if (i+1) % 200 == 0:\n",
    "        pred = model(testT).flatten().detach().numpy()\n",
    "\n",
    "        display.clear_output(wait=True)\n",
    "        plot(input, pred, expected)\n",
    "        print(\"Epoch: \", i+1)\n",
    "        print(\"Loss: \", loss.item())"
   ]
  }
 ],
 "metadata": {
  "kernelspec": {
   "display_name": "Python 3 (ipykernel)",
   "language": "python",
   "name": "python3"
  },
  "language_info": {
   "codemirror_mode": {
    "name": "ipython",
    "version": 3
   },
   "file_extension": ".py",
   "mimetype": "text/x-python",
   "name": "python",
   "nbconvert_exporter": "python",
   "pygments_lexer": "ipython3",
   "version": "3.11.2"
  }
 },
 "nbformat": 4,
 "nbformat_minor": 5
}
