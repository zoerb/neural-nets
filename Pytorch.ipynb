{
 "cells": [
  {
   "cell_type": "code",
   "execution_count": null,
   "id": "873152b5-281d-4f49-b280-ca4c67a3b18b",
   "metadata": {
    "tags": []
   },
   "outputs": [],
   "source": [
    "import numpy as np\n",
    "\n",
    "import torch\n",
    "from torch import nn\n",
    "\n",
    "import matplotlib\n",
    "import matplotlib.pyplot as plt\n",
    "\n",
    "from IPython import display\n"
   ]
  },
  {
   "cell_type": "code",
   "execution_count": null,
   "id": "93399b95-8259-43c9-ada0-f64eccecdea6",
   "metadata": {
    "tags": []
   },
   "outputs": [],
   "source": [
    "input = torch.tensor([[0, 0], [0, 0.5], [0, 1],\n",
    "                      [0.5, 0], [0.5, 0.5], [0.5, 1],\n",
    "                      [1, 0], [1, 0.5], [1, 1]])\n",
    "\n",
    "expected = torch.tensor([0, 0, 0,\n",
    "                         0, 0, 1,\n",
    "                         0, 1, 1]).reshape(9, 1).to(torch.float32)"
   ]
  },
  {
   "cell_type": "code",
   "execution_count": null,
   "id": "0d2d045b",
   "metadata": {
    "tags": []
   },
   "outputs": [],
   "source": [
    "valsX = np.linspace(-1.0, 3.0, 25)\n",
    "valsY = np.linspace(-1.0, 3.0, 25)\n",
    "coords = np.array([[x, y] for x in valsX for y in valsY])\n",
    "rbCmap = matplotlib.colors.ListedColormap([[0.0, 0.0, 1.0], [1.0, 0.0, 0.0]])"
   ]
  },
  {
   "cell_type": "code",
   "execution_count": null,
   "id": "34839baf",
   "metadata": {
    "tags": []
   },
   "outputs": [],
   "source": [
    "class NeuralNetwork(nn.Module):\n",
    "    def __init__(self):\n",
    "        super().__init__()\n",
    "        self.linear_relu_stack = nn.Sequential(\n",
    "            nn.Linear(2, 3),\n",
    "            nn.ReLU(),\n",
    "            nn.Linear(3, 1),\n",
    "        )\n",
    "\n",
    "    def forward(self, x):\n",
    "        logits = self.linear_relu_stack(x)\n",
    "        return logits\n",
    "\n",
    "model = NeuralNetwork()"
   ]
  },
  {
   "cell_type": "code",
   "execution_count": null,
   "id": "30a86e54",
   "metadata": {
    "tags": []
   },
   "outputs": [],
   "source": [
    "loss_fn = nn.L1Loss()\n",
    "optimizer = torch.optim.SGD(model.parameters(), lr=1e-3)\n",
    "\n",
    "def train_loop():\n",
    "    # Compute prediction and loss\n",
    "    out = model(input)\n",
    "    loss = loss_fn(out, expected)\n",
    "\n",
    "    # Backpropagation\n",
    "    optimizer.zero_grad()\n",
    "    loss.backward()\n",
    "    optimizer.step()\n",
    "\n",
    "    return loss"
   ]
  },
  {
   "cell_type": "code",
   "execution_count": null,
   "id": "78fc97b8",
   "metadata": {
    "tags": []
   },
   "outputs": [],
   "source": [
    "pred = model(torch.tensor(coords).to(torch.float32)).flatten().detach().numpy()\n",
    "\n",
    "plt.ion()\n",
    "\n",
    "fig, ax = plt.subplots()\n",
    "scat = ax.scatter(coords[:, 0], coords[:, 1], c=pred, cmap=rbCmap, norm=matplotlib.colors.CenteredNorm(0.5))\n",
    "plt.show()\n",
    "\n",
    "epochs = 40000\n",
    "for t in range(epochs):\n",
    "    loss = train_loop()\n",
    "\n",
    "    if t % (epochs / 10) == 0:\n",
    "        print(loss.item())\n",
    "\n",
    "        pred = model(torch.tensor(coords).to(torch.float32)).flatten().detach().numpy()\n",
    "        scat.set_array(pred)\n",
    "\n",
    "        display.clear_output(wait=True)\n",
    "        display.display(fig)"
   ]
  }
 ],
 "metadata": {
  "kernelspec": {
   "display_name": "Python 3 (ipykernel)",
   "language": "python",
   "name": "python3"
  },
  "language_info": {
   "codemirror_mode": {
    "name": "ipython",
    "version": 3
   },
   "file_extension": ".py",
   "mimetype": "text/x-python",
   "name": "python",
   "nbconvert_exporter": "python",
   "pygments_lexer": "ipython3",
   "version": "3.11.2"
  }
 },
 "nbformat": 4,
 "nbformat_minor": 5
}
