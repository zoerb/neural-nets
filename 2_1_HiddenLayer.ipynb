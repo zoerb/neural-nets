{
 "cells": [
  {
   "attachments": {},
   "cell_type": "markdown",
   "id": "afa7990c",
   "metadata": {},
   "source": [
    "Add a hidden layer with 3 neurons between the input and output."
   ]
  },
  {
   "cell_type": "code",
   "execution_count": null,
   "id": "873152b5-281d-4f49-b280-ca4c67a3b18b",
   "metadata": {
    "tags": []
   },
   "outputs": [],
   "source": [
    "import numpy as np\n",
    "from common import *"
   ]
  },
  {
   "cell_type": "code",
   "execution_count": null,
   "id": "8d4e085c",
   "metadata": {},
   "outputs": [],
   "source": [
    "expected = expected1\n",
    "\n",
    "# Weights connecting input layer to hidden layer\n",
    "w0 = np.array([[0.61275508, 0.98539237, 0.27266151],\n",
    "               [-0.47399039, 0.66266751, -0.72721264]])\n",
    "\n",
    "# Weights connecting hidden layer to output layer\n",
    "w1 = np.array([[0.96787958],\n",
    "               [-0.80183257],\n",
    "               [0.94478099]])\n",
    "\n",
    "# Biases\n",
    "b0 = np.array([0.0450116 , 0.46498468, 0.39401804])\n",
    "b1 = np.array([0.61789242])"
   ]
  },
  {
   "cell_type": "code",
   "execution_count": null,
   "id": "8298eb4d",
   "metadata": {},
   "outputs": [],
   "source": [
    "def forward(input):\n",
    "  h = np.matmul(input, w0) + b0 # Hidden layer values\n",
    "  out = np.matmul(h, w1) + b1 # Output values\n",
    "  return h, out\n",
    "\n",
    "def loss(out):\n",
    "  return np.square(out - expected).sum()"
   ]
  },
  {
   "cell_type": "code",
   "execution_count": null,
   "id": "d397c921",
   "metadata": {},
   "outputs": [],
   "source": [
    "h, out = forward(input)\n",
    "l = loss(out)\n",
    "print(\"Loss: \", l)\n",
    "\n",
    "plot(forward(test)[1], expected)"
   ]
  },
  {
   "attachments": {},
   "cell_type": "markdown",
   "id": "deba59ce",
   "metadata": {},
   "source": [
    "Want to find how changes to the weights and biases affect the loss: dL/dW0, dL/dW1, dL/dB0, and dL/dB1. Work backwards from output.\n",
    "\n",
    "Using chain rule:\n",
    "\n",
    "dL/dW1 = dL/dOut * dOut/dW1\n",
    "\n",
    "dL/dB1 = dL/dOut * dOut/dB1\n",
    "\n",
    "dL/dW0 = dL/dH * dH/dW0\n",
    "\n",
    "dL/dB0 = dL/dH * dH/dB0"
   ]
  },
  {
   "cell_type": "code",
   "execution_count": null,
   "id": "dc524bca",
   "metadata": {},
   "outputs": [],
   "source": [
    "# loss = (out - expected) ^ 2\n",
    "# dL/dOut = loss'(out - expected)\n",
    "#         = 2 * (out - expected)\n",
    "\n",
    "dLdOut = 2 * (out - expected)\n",
    "dLdOut"
   ]
  },
  {
   "cell_type": "code",
   "execution_count": null,
   "id": "7b6af8dd",
   "metadata": {},
   "outputs": [],
   "source": [
    "# out = h * w1 + b1\n",
    "\n",
    "# dOut/dW1 = h\n",
    "# dL/dW1 = dL/dOut * dOut/dW1\n",
    "#        = dL/dOut * h\n",
    "\n",
    "# For each sample, how does a change to each of the W1 weights change the loss\n",
    "dLdW1PerSample = elemOuter(h, dLdOut)\n",
    "# Sum over samples to get overall W1 derivatives across all samples\n",
    "dLdW1 = dLdW1PerSample.sum(0)\n",
    "dLdW1\n",
    "\n",
    "# dOut/dB1 = 1\n",
    "# dL/dB1 = dL/dOut * dOut/dB1\n",
    "#        = dL/dOut\n",
    "dLdB1 = dLdOut.sum(0)\n",
    "dLdB1"
   ]
  },
  {
   "cell_type": "code",
   "execution_count": null,
   "id": "c9f3b602",
   "metadata": {},
   "outputs": [],
   "source": [
    "# out = h * w1 + b1\n",
    "# h = input * w0 + b0\n",
    "\n",
    "# dOut/dH = w1\n",
    "# dL/dH = dL/dOut * dOut/dH\n",
    "#       = dL/dOut * w1\n",
    "dLdH = np.matmul(dLdOut, w1.T)\n",
    "dLdH\n",
    "\n",
    "# dH/dW0 = input\n",
    "# dL/dW0 = dL/dH * dH/dW0\n",
    "#        = dL/dH * input\n",
    "dLdW0PerSample = elemOuter(input, dLdH)\n",
    "dLdW0 = dLdW0PerSample.sum(0)\n",
    "dLdW0\n",
    "\n",
    "# dH/dB0 = 1\n",
    "# dL/dB0 = dL/dH * dH/dB0\n",
    "#        = dL/dH\n",
    "dLdB0 = dLdH.sum(0)\n",
    "dLdB0"
   ]
  }
 ],
 "metadata": {
  "kernelspec": {
   "display_name": "Python 3 (ipykernel)",
   "language": "python",
   "name": "python3"
  },
  "language_info": {
   "codemirror_mode": {
    "name": "ipython",
    "version": 3
   },
   "file_extension": ".py",
   "mimetype": "text/x-python",
   "name": "python",
   "nbconvert_exporter": "python",
   "pygments_lexer": "ipython3",
   "version": "3.11.2"
  }
 },
 "nbformat": 4,
 "nbformat_minor": 5
}
